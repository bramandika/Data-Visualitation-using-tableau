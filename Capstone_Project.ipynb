{
  "nbformat": 4,
  "nbformat_minor": 0,
  "metadata": {
    "colab": {
      "name": "Capstone_Project",
      "provenance": [],
      "collapsed_sections": []
    },
    "kernelspec": {
      "display_name": "Python 3",
      "language": "python",
      "name": "python3"
    },
    "language_info": {
      "codemirror_mode": {
        "name": "ipython",
        "version": 3
      },
      "file_extension": ".py",
      "mimetype": "text/x-python",
      "name": "python",
      "nbconvert_exporter": "python",
      "pygments_lexer": "ipython3",
      "version": "3.7.7"
    }
  },
  "cells": [
    {
      "cell_type": "markdown",
      "metadata": {
        "id": "cWDijqRGKn8I"
      },
      "source": [
        "# CAPSTONE PROJECT"
      ]
    },
    {
      "cell_type": "markdown",
      "metadata": {
        "id": "UEnIzR1tlWhB"
      },
      "source": [
        "## Connect Colab to GDrive"
      ]
    },
    {
      "cell_type": "code",
      "metadata": {
        "id": "4Q2pgfwMlbRY",
        "colab": {
          "base_uri": "https://localhost:8080/"
        },
        "outputId": "1d22e96a-5cb9-4661-92b7-72290be522cf"
      },
      "source": [
        "# Mengakses google drive ke dalam google colaboratory\n",
        "from google.colab import drive\n",
        "drive.mount('/content/gdrive')\n",
        "import os"
      ],
      "execution_count": 51,
      "outputs": [
        {
          "output_type": "stream",
          "name": "stdout",
          "text": [
            "Drive already mounted at /content/gdrive; to attempt to forcibly remount, call drive.mount(\"/content/gdrive\", force_remount=True).\n"
          ]
        }
      ]
    },
    {
      "cell_type": "code",
      "metadata": {
        "colab": {
          "base_uri": "https://localhost:8080/"
        },
        "id": "DQgbgV7Xb3kA",
        "outputId": "43576287-4d7d-435d-dbed-17eec974bcbd"
      },
      "source": [
        "path = \"/content/gdrive/MyDrive/narasio data/Capstone_Project/\"\n",
        "os.listdir(path)"
      ],
      "execution_count": 52,
      "outputs": [
        {
          "output_type": "execute_result",
          "data": {
            "text/plain": [
              "['retail_online_shop.db', 'Df_join.csv', 'df1.csv']"
            ]
          },
          "metadata": {},
          "execution_count": 52
        }
      ]
    },
    {
      "cell_type": "markdown",
      "metadata": {
        "id": "M6YWX-NtKn8K"
      },
      "source": [
        "## IMPORT PACKAGES"
      ]
    },
    {
      "cell_type": "code",
      "metadata": {
        "id": "MHUsnon5l5yo"
      },
      "source": [
        "# Import SQLite library dan library yang terkait dengan pengolahan data.\n",
        "import sqlite3\n",
        "import pandas as pd"
      ],
      "execution_count": 53,
      "outputs": []
    },
    {
      "cell_type": "markdown",
      "metadata": {
        "id": "TmfuYV3clcWk"
      },
      "source": [
        "## Connect SQLite to Python"
      ]
    },
    {
      "cell_type": "code",
      "metadata": {
        "id": "v31KzqKnling"
      },
      "source": [
        "\n",
        "conn = sqlite3.connect(path + 'retail_online_shop.db')"
      ],
      "execution_count": 54,
      "outputs": []
    },
    {
      "cell_type": "code",
      "metadata": {
        "id": "JMNqh-lyeEUf"
      },
      "source": [
        "cur = conn.cursor()"
      ],
      "execution_count": 55,
      "outputs": []
    },
    {
      "cell_type": "markdown",
      "metadata": {
        "id": "031LDaaFlk2t"
      },
      "source": [
        "## Data Preparation Using SQL"
      ]
    },
    {
      "cell_type": "code",
      "metadata": {
        "id": "RjnGaIillubA",
        "colab": {
          "base_uri": "https://localhost:8080/"
        },
        "outputId": "9d18c266-a5e8-4fae-f328-5e1398c215d9"
      },
      "source": [
        "\n",
        "cur.execute(\"SELECT name FROM sqlite_master WHERE type='table'\")\n",
        "print(cur.fetchall())"
      ],
      "execution_count": 56,
      "outputs": [
        {
          "output_type": "stream",
          "name": "stdout",
          "text": [
            "[('bills',), ('brand_details',), ('main_categories',), ('sub_categories',), ('bill_items',), ('products',), ('bill_locations',)]\n"
          ]
        }
      ]
    },
    {
      "cell_type": "code",
      "metadata": {
        "colab": {
          "base_uri": "https://localhost:8080/",
          "height": 424
        },
        "id": "cnV7CtJLelOv",
        "outputId": "a8ef2483-ee13-4fed-f303-7e20849fa7d1"
      },
      "source": [
        "bill_table = pd.read_sql_query('''SELECT * \n",
        "                                      FROM bills''', conn)\n",
        "bill_table"
      ],
      "execution_count": 57,
      "outputs": [
        {
          "output_type": "execute_result",
          "data": {
            "text/html": [
              "<div>\n",
              "<style scoped>\n",
              "    .dataframe tbody tr th:only-of-type {\n",
              "        vertical-align: middle;\n",
              "    }\n",
              "\n",
              "    .dataframe tbody tr th {\n",
              "        vertical-align: top;\n",
              "    }\n",
              "\n",
              "    .dataframe thead th {\n",
              "        text-align: right;\n",
              "    }\n",
              "</style>\n",
              "<table border=\"1\" class=\"dataframe\">\n",
              "  <thead>\n",
              "    <tr style=\"text-align: right;\">\n",
              "      <th></th>\n",
              "      <th>index</th>\n",
              "      <th>bill_ID</th>\n",
              "      <th>invoice</th>\n",
              "      <th>bill_date</th>\n",
              "    </tr>\n",
              "  </thead>\n",
              "  <tbody>\n",
              "    <tr>\n",
              "      <th>0</th>\n",
              "      <td>0</td>\n",
              "      <td>1</td>\n",
              "      <td>T1</td>\n",
              "      <td>2020-01-01</td>\n",
              "    </tr>\n",
              "    <tr>\n",
              "      <th>1</th>\n",
              "      <td>1</td>\n",
              "      <td>2</td>\n",
              "      <td>T2</td>\n",
              "      <td>2020-01-01</td>\n",
              "    </tr>\n",
              "    <tr>\n",
              "      <th>2</th>\n",
              "      <td>2</td>\n",
              "      <td>3</td>\n",
              "      <td>T3</td>\n",
              "      <td>2020-01-01</td>\n",
              "    </tr>\n",
              "    <tr>\n",
              "      <th>3</th>\n",
              "      <td>3</td>\n",
              "      <td>4</td>\n",
              "      <td>T4</td>\n",
              "      <td>2020-01-01</td>\n",
              "    </tr>\n",
              "    <tr>\n",
              "      <th>4</th>\n",
              "      <td>4</td>\n",
              "      <td>5</td>\n",
              "      <td>T5</td>\n",
              "      <td>2020-01-01</td>\n",
              "    </tr>\n",
              "    <tr>\n",
              "      <th>...</th>\n",
              "      <td>...</td>\n",
              "      <td>...</td>\n",
              "      <td>...</td>\n",
              "      <td>...</td>\n",
              "    </tr>\n",
              "    <tr>\n",
              "      <th>2381</th>\n",
              "      <td>2381</td>\n",
              "      <td>2382</td>\n",
              "      <td>T3528</td>\n",
              "      <td>2020-01-31</td>\n",
              "    </tr>\n",
              "    <tr>\n",
              "      <th>2382</th>\n",
              "      <td>2382</td>\n",
              "      <td>2383</td>\n",
              "      <td>T3530</td>\n",
              "      <td>2020-01-31</td>\n",
              "    </tr>\n",
              "    <tr>\n",
              "      <th>2383</th>\n",
              "      <td>2383</td>\n",
              "      <td>2384</td>\n",
              "      <td>T3533</td>\n",
              "      <td>2020-01-31</td>\n",
              "    </tr>\n",
              "    <tr>\n",
              "      <th>2384</th>\n",
              "      <td>2384</td>\n",
              "      <td>2385</td>\n",
              "      <td>T3535</td>\n",
              "      <td>2020-01-31</td>\n",
              "    </tr>\n",
              "    <tr>\n",
              "      <th>2385</th>\n",
              "      <td>2385</td>\n",
              "      <td>2386</td>\n",
              "      <td>T3536</td>\n",
              "      <td>2020-01-31</td>\n",
              "    </tr>\n",
              "  </tbody>\n",
              "</table>\n",
              "<p>2386 rows × 4 columns</p>\n",
              "</div>"
            ],
            "text/plain": [
              "      index  bill_ID invoice   bill_date\n",
              "0         0        1      T1  2020-01-01\n",
              "1         1        2      T2  2020-01-01\n",
              "2         2        3      T3  2020-01-01\n",
              "3         3        4      T4  2020-01-01\n",
              "4         4        5      T5  2020-01-01\n",
              "...     ...      ...     ...         ...\n",
              "2381   2381     2382   T3528  2020-01-31\n",
              "2382   2382     2383   T3530  2020-01-31\n",
              "2383   2383     2384   T3533  2020-01-31\n",
              "2384   2384     2385   T3535  2020-01-31\n",
              "2385   2385     2386   T3536  2020-01-31\n",
              "\n",
              "[2386 rows x 4 columns]"
            ]
          },
          "metadata": {},
          "execution_count": 57
        }
      ]
    },
    {
      "cell_type": "code",
      "metadata": {
        "colab": {
          "base_uri": "https://localhost:8080/",
          "height": 424
        },
        "id": "d22stYSbNrz3",
        "outputId": "f68feedd-3672-4de7-8418-80fa5169cbf2"
      },
      "source": [
        "brand_details_table= pd.read_sql_query('''SELECT * \n",
        "                                      FROM brand_details''', conn)\n",
        "brand_details_table"
      ],
      "execution_count": 58,
      "outputs": [
        {
          "output_type": "execute_result",
          "data": {
            "text/html": [
              "<div>\n",
              "<style scoped>\n",
              "    .dataframe tbody tr th:only-of-type {\n",
              "        vertical-align: middle;\n",
              "    }\n",
              "\n",
              "    .dataframe tbody tr th {\n",
              "        vertical-align: top;\n",
              "    }\n",
              "\n",
              "    .dataframe thead th {\n",
              "        text-align: right;\n",
              "    }\n",
              "</style>\n",
              "<table border=\"1\" class=\"dataframe\">\n",
              "  <thead>\n",
              "    <tr style=\"text-align: right;\">\n",
              "      <th></th>\n",
              "      <th>index</th>\n",
              "      <th>brand_ID</th>\n",
              "      <th>brand_name</th>\n",
              "      <th>company</th>\n",
              "    </tr>\n",
              "  </thead>\n",
              "  <tbody>\n",
              "    <tr>\n",
              "      <th>0</th>\n",
              "      <td>0</td>\n",
              "      <td>1</td>\n",
              "      <td>AMUL</td>\n",
              "      <td>G C M M F</td>\n",
              "    </tr>\n",
              "    <tr>\n",
              "      <th>1</th>\n",
              "      <td>1</td>\n",
              "      <td>2</td>\n",
              "      <td>MELODY</td>\n",
              "      <td>PARLE PRODS</td>\n",
              "    </tr>\n",
              "    <tr>\n",
              "      <th>2</th>\n",
              "      <td>2</td>\n",
              "      <td>3</td>\n",
              "      <td>CADBURY SHOTS</td>\n",
              "      <td>MONDELEZ INTERNATIONAL</td>\n",
              "    </tr>\n",
              "    <tr>\n",
              "      <th>3</th>\n",
              "      <td>3</td>\n",
              "      <td>4</td>\n",
              "      <td>WAGH BAKRI</td>\n",
              "      <td>GUJ TEA PROCESSORS</td>\n",
              "    </tr>\n",
              "    <tr>\n",
              "      <th>4</th>\n",
              "      <td>4</td>\n",
              "      <td>5</td>\n",
              "      <td>TATA</td>\n",
              "      <td>TATA CHEM</td>\n",
              "    </tr>\n",
              "    <tr>\n",
              "      <th>...</th>\n",
              "      <td>...</td>\n",
              "      <td>...</td>\n",
              "      <td>...</td>\n",
              "      <td>...</td>\n",
              "    </tr>\n",
              "    <tr>\n",
              "      <th>536</th>\n",
              "      <td>536</td>\n",
              "      <td>537</td>\n",
              "      <td>MPS</td>\n",
              "      <td>MPS FOOD PRODUCTS</td>\n",
              "    </tr>\n",
              "    <tr>\n",
              "      <th>537</th>\n",
              "      <td>537</td>\n",
              "      <td>538</td>\n",
              "      <td>SURABHI</td>\n",
              "      <td>ADINATH AGRO</td>\n",
              "    </tr>\n",
              "    <tr>\n",
              "      <th>538</th>\n",
              "      <td>538</td>\n",
              "      <td>539</td>\n",
              "      <td>DRYFRUITS</td>\n",
              "      <td>H.P.NUTRITIONS</td>\n",
              "    </tr>\n",
              "    <tr>\n",
              "      <th>539</th>\n",
              "      <td>539</td>\n",
              "      <td>540</td>\n",
              "      <td>JIVANA</td>\n",
              "      <td>GODAWARI BIOREFINERIES</td>\n",
              "    </tr>\n",
              "    <tr>\n",
              "      <th>540</th>\n",
              "      <td>540</td>\n",
              "      <td>541</td>\n",
              "      <td>CORNITOS</td>\n",
              "      <td>GREEN DOT HEALTH FOOD LTD</td>\n",
              "    </tr>\n",
              "  </tbody>\n",
              "</table>\n",
              "<p>541 rows × 4 columns</p>\n",
              "</div>"
            ],
            "text/plain": [
              "     index  brand_ID     brand_name                    company\n",
              "0        0         1           AMUL                  G C M M F\n",
              "1        1         2         MELODY                PARLE PRODS\n",
              "2        2         3  CADBURY SHOTS     MONDELEZ INTERNATIONAL\n",
              "3        3         4     WAGH BAKRI         GUJ TEA PROCESSORS\n",
              "4        4         5           TATA                  TATA CHEM\n",
              "..     ...       ...            ...                        ...\n",
              "536    536       537            MPS          MPS FOOD PRODUCTS\n",
              "537    537       538        SURABHI               ADINATH AGRO\n",
              "538    538       539      DRYFRUITS             H.P.NUTRITIONS\n",
              "539    539       540         JIVANA     GODAWARI BIOREFINERIES\n",
              "540    540       541       CORNITOS  GREEN DOT HEALTH FOOD LTD\n",
              "\n",
              "[541 rows x 4 columns]"
            ]
          },
          "metadata": {},
          "execution_count": 58
        }
      ]
    },
    {
      "cell_type": "code",
      "metadata": {
        "id": "uTaEig92eyBN",
        "colab": {
          "base_uri": "https://localhost:8080/",
          "height": 424
        },
        "outputId": "470efc18-0dea-473a-e3c1-7fca62fd4e5d"
      },
      "source": [
        "main_categories_table = pd.read_sql_query('''SELECT * \n",
        "                                      FROM main_categories''', conn)\n",
        "main_categories_table"
      ],
      "execution_count": 59,
      "outputs": [
        {
          "output_type": "execute_result",
          "data": {
            "text/html": [
              "<div>\n",
              "<style scoped>\n",
              "    .dataframe tbody tr th:only-of-type {\n",
              "        vertical-align: middle;\n",
              "    }\n",
              "\n",
              "    .dataframe tbody tr th {\n",
              "        vertical-align: top;\n",
              "    }\n",
              "\n",
              "    .dataframe thead th {\n",
              "        text-align: right;\n",
              "    }\n",
              "</style>\n",
              "<table border=\"1\" class=\"dataframe\">\n",
              "  <thead>\n",
              "    <tr style=\"text-align: right;\">\n",
              "      <th></th>\n",
              "      <th>index</th>\n",
              "      <th>category_ID</th>\n",
              "      <th>category_name</th>\n",
              "    </tr>\n",
              "  </thead>\n",
              "  <tbody>\n",
              "    <tr>\n",
              "      <th>0</th>\n",
              "      <td>0</td>\n",
              "      <td>1</td>\n",
              "      <td>AFTER SHAVE LOTIONS</td>\n",
              "    </tr>\n",
              "    <tr>\n",
              "      <th>1</th>\n",
              "      <td>1</td>\n",
              "      <td>2</td>\n",
              "      <td>AGARBATTI &amp; DHOOPBATTI</td>\n",
              "    </tr>\n",
              "    <tr>\n",
              "      <th>2</th>\n",
              "      <td>2</td>\n",
              "      <td>3</td>\n",
              "      <td>ALL AIR FRESHNERS(01/03)</td>\n",
              "    </tr>\n",
              "    <tr>\n",
              "      <th>3</th>\n",
              "      <td>3</td>\n",
              "      <td>4</td>\n",
              "      <td>ALL IODISED SALT</td>\n",
              "    </tr>\n",
              "    <tr>\n",
              "      <th>4</th>\n",
              "      <td>4</td>\n",
              "      <td>5</td>\n",
              "      <td>ANTACIDS</td>\n",
              "    </tr>\n",
              "    <tr>\n",
              "      <th>...</th>\n",
              "      <td>...</td>\n",
              "      <td>...</td>\n",
              "      <td>...</td>\n",
              "    </tr>\n",
              "    <tr>\n",
              "      <th>72</th>\n",
              "      <td>72</td>\n",
              "      <td>73</td>\n",
              "      <td>TOOTH POWDERS</td>\n",
              "    </tr>\n",
              "    <tr>\n",
              "      <th>73</th>\n",
              "      <td>73</td>\n",
              "      <td>74</td>\n",
              "      <td>TWIN BLADES</td>\n",
              "    </tr>\n",
              "    <tr>\n",
              "      <th>74</th>\n",
              "      <td>74</td>\n",
              "      <td>75</td>\n",
              "      <td>VANASPATI CONS PACK (8/94)</td>\n",
              "    </tr>\n",
              "    <tr>\n",
              "      <th>75</th>\n",
              "      <td>75</td>\n",
              "      <td>76</td>\n",
              "      <td>VERMICELLI &amp; NOODLE</td>\n",
              "    </tr>\n",
              "    <tr>\n",
              "      <th>76</th>\n",
              "      <td>76</td>\n",
              "      <td>77</td>\n",
              "      <td>WASHING POWDERS/LIQUIDS</td>\n",
              "    </tr>\n",
              "  </tbody>\n",
              "</table>\n",
              "<p>77 rows × 3 columns</p>\n",
              "</div>"
            ],
            "text/plain": [
              "    index  category_ID               category_name\n",
              "0       0            1         AFTER SHAVE LOTIONS\n",
              "1       1            2      AGARBATTI & DHOOPBATTI\n",
              "2       2            3    ALL AIR FRESHNERS(01/03)\n",
              "3       3            4            ALL IODISED SALT\n",
              "4       4            5                    ANTACIDS\n",
              "..    ...          ...                         ...\n",
              "72     72           73               TOOTH POWDERS\n",
              "73     73           74                 TWIN BLADES\n",
              "74     74           75  VANASPATI CONS PACK (8/94)\n",
              "75     75           76         VERMICELLI & NOODLE\n",
              "76     76           77     WASHING POWDERS/LIQUIDS\n",
              "\n",
              "[77 rows x 3 columns]"
            ]
          },
          "metadata": {},
          "execution_count": 59
        }
      ]
    },
    {
      "cell_type": "code",
      "metadata": {
        "colab": {
          "base_uri": "https://localhost:8080/",
          "height": 424
        },
        "id": "bbO3P9_3OKmm",
        "outputId": "ccd74db5-8254-4206-f7be-ba763527c646"
      },
      "source": [
        "sub_categories_table= pd.read_sql_query('''SELECT * \n",
        "                                      FROM sub_categories''', conn)\n",
        "sub_categories_table"
      ],
      "execution_count": 60,
      "outputs": [
        {
          "output_type": "execute_result",
          "data": {
            "text/html": [
              "<div>\n",
              "<style scoped>\n",
              "    .dataframe tbody tr th:only-of-type {\n",
              "        vertical-align: middle;\n",
              "    }\n",
              "\n",
              "    .dataframe tbody tr th {\n",
              "        vertical-align: top;\n",
              "    }\n",
              "\n",
              "    .dataframe thead th {\n",
              "        text-align: right;\n",
              "    }\n",
              "</style>\n",
              "<table border=\"1\" class=\"dataframe\">\n",
              "  <thead>\n",
              "    <tr style=\"text-align: right;\">\n",
              "      <th></th>\n",
              "      <th>index</th>\n",
              "      <th>subcategory_ID</th>\n",
              "      <th>subcategory_name</th>\n",
              "    </tr>\n",
              "  </thead>\n",
              "  <tbody>\n",
              "    <tr>\n",
              "      <th>0</th>\n",
              "      <td>0</td>\n",
              "      <td>1</td>\n",
              "      <td>AEROSOL</td>\n",
              "    </tr>\n",
              "    <tr>\n",
              "      <th>1</th>\n",
              "      <td>1</td>\n",
              "      <td>2</td>\n",
              "      <td>AEROSOLS</td>\n",
              "    </tr>\n",
              "    <tr>\n",
              "      <th>2</th>\n",
              "      <td>2</td>\n",
              "      <td>3</td>\n",
              "      <td>AFTER SHAVE LOTIONS</td>\n",
              "    </tr>\n",
              "    <tr>\n",
              "      <th>3</th>\n",
              "      <td>3</td>\n",
              "      <td>4</td>\n",
              "      <td>AGARBATTI</td>\n",
              "    </tr>\n",
              "    <tr>\n",
              "      <th>4</th>\n",
              "      <td>4</td>\n",
              "      <td>5</td>\n",
              "      <td>ALKALINE</td>\n",
              "    </tr>\n",
              "    <tr>\n",
              "      <th>...</th>\n",
              "      <td>...</td>\n",
              "      <td>...</td>\n",
              "      <td>...</td>\n",
              "    </tr>\n",
              "    <tr>\n",
              "      <th>155</th>\n",
              "      <td>155</td>\n",
              "      <td>156</td>\n",
              "      <td>VERMICILLI</td>\n",
              "    </tr>\n",
              "    <tr>\n",
              "      <th>156</th>\n",
              "      <td>156</td>\n",
              "      <td>157</td>\n",
              "      <td>WAFER CREAM</td>\n",
              "    </tr>\n",
              "    <tr>\n",
              "      <th>157</th>\n",
              "      <td>157</td>\n",
              "      <td>158</td>\n",
              "      <td>WASHING POWDERS/LIQUIDS</td>\n",
              "    </tr>\n",
              "    <tr>\n",
              "      <th>158</th>\n",
              "      <td>158</td>\n",
              "      <td>159</td>\n",
              "      <td>WAX POLISHES</td>\n",
              "    </tr>\n",
              "    <tr>\n",
              "      <th>159</th>\n",
              "      <td>159</td>\n",
              "      <td>160</td>\n",
              "      <td>WHITE POWDERS</td>\n",
              "    </tr>\n",
              "  </tbody>\n",
              "</table>\n",
              "<p>160 rows × 3 columns</p>\n",
              "</div>"
            ],
            "text/plain": [
              "     index  subcategory_ID         subcategory_name\n",
              "0        0               1                  AEROSOL\n",
              "1        1               2                 AEROSOLS\n",
              "2        2               3      AFTER SHAVE LOTIONS\n",
              "3        3               4                AGARBATTI\n",
              "4        4               5                 ALKALINE\n",
              "..     ...             ...                      ...\n",
              "155    155             156               VERMICILLI\n",
              "156    156             157              WAFER CREAM\n",
              "157    157             158  WASHING POWDERS/LIQUIDS\n",
              "158    158             159             WAX POLISHES\n",
              "159    159             160            WHITE POWDERS\n",
              "\n",
              "[160 rows x 3 columns]"
            ]
          },
          "metadata": {},
          "execution_count": 60
        }
      ]
    },
    {
      "cell_type": "code",
      "metadata": {
        "colab": {
          "base_uri": "https://localhost:8080/",
          "height": 424
        },
        "id": "0kT1vKkMOWRf",
        "outputId": "d66184b5-b8e4-4b3d-e198-1a4077204d4a"
      },
      "source": [
        "bill_items_table=pd.read_sql_query('''SELECT * \n",
        "                                      FROM bill_items''', conn)\n",
        "bill_items_table"
      ],
      "execution_count": 61,
      "outputs": [
        {
          "output_type": "execute_result",
          "data": {
            "text/html": [
              "<div>\n",
              "<style scoped>\n",
              "    .dataframe tbody tr th:only-of-type {\n",
              "        vertical-align: middle;\n",
              "    }\n",
              "\n",
              "    .dataframe tbody tr th {\n",
              "        vertical-align: top;\n",
              "    }\n",
              "\n",
              "    .dataframe thead th {\n",
              "        text-align: right;\n",
              "    }\n",
              "</style>\n",
              "<table border=\"1\" class=\"dataframe\">\n",
              "  <thead>\n",
              "    <tr style=\"text-align: right;\">\n",
              "      <th></th>\n",
              "      <th>index</th>\n",
              "      <th>bill_item_ID</th>\n",
              "      <th>bill_ID</th>\n",
              "      <th>product_ID</th>\n",
              "      <th>quantity</th>\n",
              "      <th>selling_price</th>\n",
              "      <th>total_sales</th>\n",
              "    </tr>\n",
              "  </thead>\n",
              "  <tbody>\n",
              "    <tr>\n",
              "      <th>0</th>\n",
              "      <td>0</td>\n",
              "      <td>1</td>\n",
              "      <td>1</td>\n",
              "      <td>1011</td>\n",
              "      <td>4.0</td>\n",
              "      <td>9.5</td>\n",
              "      <td>38.0</td>\n",
              "    </tr>\n",
              "    <tr>\n",
              "      <th>1</th>\n",
              "      <td>1</td>\n",
              "      <td>2</td>\n",
              "      <td>1</td>\n",
              "      <td>215</td>\n",
              "      <td>1.0</td>\n",
              "      <td>118.0</td>\n",
              "      <td>118.0</td>\n",
              "    </tr>\n",
              "    <tr>\n",
              "      <th>2</th>\n",
              "      <td>2</td>\n",
              "      <td>3</td>\n",
              "      <td>1</td>\n",
              "      <td>437</td>\n",
              "      <td>1.0</td>\n",
              "      <td>155.0</td>\n",
              "      <td>155.0</td>\n",
              "    </tr>\n",
              "    <tr>\n",
              "      <th>3</th>\n",
              "      <td>3</td>\n",
              "      <td>4</td>\n",
              "      <td>1</td>\n",
              "      <td>57</td>\n",
              "      <td>2.0</td>\n",
              "      <td>5.0</td>\n",
              "      <td>10.0</td>\n",
              "    </tr>\n",
              "    <tr>\n",
              "      <th>4</th>\n",
              "      <td>4</td>\n",
              "      <td>5</td>\n",
              "      <td>1</td>\n",
              "      <td>752</td>\n",
              "      <td>1.0</td>\n",
              "      <td>39.0</td>\n",
              "      <td>39.0</td>\n",
              "    </tr>\n",
              "    <tr>\n",
              "      <th>...</th>\n",
              "      <td>...</td>\n",
              "      <td>...</td>\n",
              "      <td>...</td>\n",
              "      <td>...</td>\n",
              "      <td>...</td>\n",
              "      <td>...</td>\n",
              "      <td>...</td>\n",
              "    </tr>\n",
              "    <tr>\n",
              "      <th>8349</th>\n",
              "      <td>8349</td>\n",
              "      <td>8311</td>\n",
              "      <td>2383</td>\n",
              "      <td>841</td>\n",
              "      <td>1.0</td>\n",
              "      <td>55.0</td>\n",
              "      <td>55.0</td>\n",
              "    </tr>\n",
              "    <tr>\n",
              "      <th>8350</th>\n",
              "      <td>8350</td>\n",
              "      <td>8312</td>\n",
              "      <td>2384</td>\n",
              "      <td>195</td>\n",
              "      <td>10.0</td>\n",
              "      <td>20.0</td>\n",
              "      <td>200.0</td>\n",
              "    </tr>\n",
              "    <tr>\n",
              "      <th>8351</th>\n",
              "      <td>8351</td>\n",
              "      <td>8313</td>\n",
              "      <td>2385</td>\n",
              "      <td>622</td>\n",
              "      <td>1.0</td>\n",
              "      <td>15.0</td>\n",
              "      <td>15.0</td>\n",
              "    </tr>\n",
              "    <tr>\n",
              "      <th>8352</th>\n",
              "      <td>8352</td>\n",
              "      <td>8314</td>\n",
              "      <td>2385</td>\n",
              "      <td>331</td>\n",
              "      <td>1.0</td>\n",
              "      <td>115.0</td>\n",
              "      <td>115.0</td>\n",
              "    </tr>\n",
              "    <tr>\n",
              "      <th>8353</th>\n",
              "      <td>8353</td>\n",
              "      <td>8315</td>\n",
              "      <td>2386</td>\n",
              "      <td>630</td>\n",
              "      <td>2.0</td>\n",
              "      <td>50.0</td>\n",
              "      <td>100.0</td>\n",
              "    </tr>\n",
              "  </tbody>\n",
              "</table>\n",
              "<p>8354 rows × 7 columns</p>\n",
              "</div>"
            ],
            "text/plain": [
              "      index  bill_item_ID   bill_ID  ...  quantity  selling_price  total_sales\n",
              "0         0              1        1  ...       4.0            9.5         38.0\n",
              "1         1              2        1  ...       1.0          118.0        118.0\n",
              "2         2              3        1  ...       1.0          155.0        155.0\n",
              "3         3              4        1  ...       2.0            5.0         10.0\n",
              "4         4              5        1  ...       1.0           39.0         39.0\n",
              "...     ...            ...      ...  ...       ...            ...          ...\n",
              "8349   8349           8311     2383  ...       1.0           55.0         55.0\n",
              "8350   8350           8312     2384  ...      10.0           20.0        200.0\n",
              "8351   8351           8313     2385  ...       1.0           15.0         15.0\n",
              "8352   8352           8314     2385  ...       1.0          115.0        115.0\n",
              "8353   8353           8315     2386  ...       2.0           50.0        100.0\n",
              "\n",
              "[8354 rows x 7 columns]"
            ]
          },
          "metadata": {},
          "execution_count": 61
        }
      ]
    },
    {
      "cell_type": "code",
      "metadata": {
        "colab": {
          "base_uri": "https://localhost:8080/",
          "height": 424
        },
        "id": "tTUn6z7TOsVy",
        "outputId": "4f57d41e-c549-415c-bb6e-8575caa0c51c"
      },
      "source": [
        "products_table=pd.read_sql_query('''SELECT * \n",
        "                                      FROM products''', conn)\n",
        "products_table"
      ],
      "execution_count": 62,
      "outputs": [
        {
          "output_type": "execute_result",
          "data": {
            "text/html": [
              "<div>\n",
              "<style scoped>\n",
              "    .dataframe tbody tr th:only-of-type {\n",
              "        vertical-align: middle;\n",
              "    }\n",
              "\n",
              "    .dataframe tbody tr th {\n",
              "        vertical-align: top;\n",
              "    }\n",
              "\n",
              "    .dataframe thead th {\n",
              "        text-align: right;\n",
              "    }\n",
              "</style>\n",
              "<table border=\"1\" class=\"dataframe\">\n",
              "  <thead>\n",
              "    <tr style=\"text-align: right;\">\n",
              "      <th></th>\n",
              "      <th>index</th>\n",
              "      <th>product_ID</th>\n",
              "      <th>product_name</th>\n",
              "      <th>brand_ID</th>\n",
              "      <th>category_ID</th>\n",
              "      <th>subcategory_ID</th>\n",
              "    </tr>\n",
              "  </thead>\n",
              "  <tbody>\n",
              "    <tr>\n",
              "      <th>0</th>\n",
              "      <td>0</td>\n",
              "      <td>1</td>\n",
              "      <td>555</td>\n",
              "      <td>531</td>\n",
              "      <td>60</td>\n",
              "      <td>142</td>\n",
              "    </tr>\n",
              "    <tr>\n",
              "      <th>1</th>\n",
              "      <td>1</td>\n",
              "      <td>2</td>\n",
              "      <td>2-IN-1 DAY &amp; NIGHT</td>\n",
              "      <td>183</td>\n",
              "      <td>31</td>\n",
              "      <td>53</td>\n",
              "    </tr>\n",
              "    <tr>\n",
              "      <th>2</th>\n",
              "      <td>2</td>\n",
              "      <td>3</td>\n",
              "      <td>3M SCOTCH BRITE GENERAL PURPOS</td>\n",
              "      <td>347</td>\n",
              "      <td>60</td>\n",
              "      <td>129</td>\n",
              "    </tr>\n",
              "    <tr>\n",
              "      <th>3</th>\n",
              "      <td>3</td>\n",
              "      <td>4</td>\n",
              "      <td>3M SCOTCH BRITE SCRUB SPONGE</td>\n",
              "      <td>347</td>\n",
              "      <td>60</td>\n",
              "      <td>130</td>\n",
              "    </tr>\n",
              "    <tr>\n",
              "      <th>4</th>\n",
              "      <td>4</td>\n",
              "      <td>5</td>\n",
              "      <td>3M SCOTCH BRITE STN STEEL SCRB</td>\n",
              "      <td>347</td>\n",
              "      <td>60</td>\n",
              "      <td>142</td>\n",
              "    </tr>\n",
              "    <tr>\n",
              "      <th>...</th>\n",
              "      <td>...</td>\n",
              "      <td>...</td>\n",
              "      <td>...</td>\n",
              "      <td>...</td>\n",
              "      <td>...</td>\n",
              "      <td>...</td>\n",
              "    </tr>\n",
              "    <tr>\n",
              "      <th>1027</th>\n",
              "      <td>1027</td>\n",
              "      <td>1028</td>\n",
              "      <td>YOLI YOLA</td>\n",
              "      <td>28</td>\n",
              "      <td>27</td>\n",
              "      <td>149</td>\n",
              "    </tr>\n",
              "    <tr>\n",
              "      <th>1028</th>\n",
              "      <td>1028</td>\n",
              "      <td>1029</td>\n",
              "      <td>Z MAGNETISM</td>\n",
              "      <td>366</td>\n",
              "      <td>69</td>\n",
              "      <td>147</td>\n",
              "    </tr>\n",
              "    <tr>\n",
              "      <th>1029</th>\n",
              "      <td>1029</td>\n",
              "      <td>1030</td>\n",
              "      <td>ZANDU</td>\n",
              "      <td>178</td>\n",
              "      <td>56</td>\n",
              "      <td>124</td>\n",
              "    </tr>\n",
              "    <tr>\n",
              "      <th>1030</th>\n",
              "      <td>1030</td>\n",
              "      <td>1031</td>\n",
              "      <td>ZOOPY</td>\n",
              "      <td>67</td>\n",
              "      <td>76</td>\n",
              "      <td>70</td>\n",
              "    </tr>\n",
              "    <tr>\n",
              "      <th>1031</th>\n",
              "      <td>1031</td>\n",
              "      <td>1032</td>\n",
              "      <td>ZOOPY</td>\n",
              "      <td>67</td>\n",
              "      <td>76</td>\n",
              "      <td>93</td>\n",
              "    </tr>\n",
              "  </tbody>\n",
              "</table>\n",
              "<p>1032 rows × 6 columns</p>\n",
              "</div>"
            ],
            "text/plain": [
              "      index  product_ID  ... category_ID  subcategory_ID\n",
              "0         0           1  ...          60             142\n",
              "1         1           2  ...          31              53\n",
              "2         2           3  ...          60             129\n",
              "3         3           4  ...          60             130\n",
              "4         4           5  ...          60             142\n",
              "...     ...         ...  ...         ...             ...\n",
              "1027   1027        1028  ...          27             149\n",
              "1028   1028        1029  ...          69             147\n",
              "1029   1029        1030  ...          56             124\n",
              "1030   1030        1031  ...          76              70\n",
              "1031   1031        1032  ...          76              93\n",
              "\n",
              "[1032 rows x 6 columns]"
            ]
          },
          "metadata": {},
          "execution_count": 62
        }
      ]
    },
    {
      "cell_type": "code",
      "metadata": {
        "id": "u9GLq3MkJOfy",
        "colab": {
          "base_uri": "https://localhost:8080/",
          "height": 424
        },
        "outputId": "c48d5301-c278-45b6-9b6e-a8217000597b"
      },
      "source": [
        "bill_locations_table=pd.read_sql_query('''SELECT * \n",
        "                                        FROM bill_locations''', conn)\n",
        "bill_locations_table"
      ],
      "execution_count": 63,
      "outputs": [
        {
          "output_type": "execute_result",
          "data": {
            "text/html": [
              "<div>\n",
              "<style scoped>\n",
              "    .dataframe tbody tr th:only-of-type {\n",
              "        vertical-align: middle;\n",
              "    }\n",
              "\n",
              "    .dataframe tbody tr th {\n",
              "        vertical-align: top;\n",
              "    }\n",
              "\n",
              "    .dataframe thead th {\n",
              "        text-align: right;\n",
              "    }\n",
              "</style>\n",
              "<table border=\"1\" class=\"dataframe\">\n",
              "  <thead>\n",
              "    <tr style=\"text-align: right;\">\n",
              "      <th></th>\n",
              "      <th>index</th>\n",
              "      <th>loc_ID</th>\n",
              "      <th>bill_ID</th>\n",
              "      <th>address</th>\n",
              "      <th>latitude</th>\n",
              "      <th>longitude</th>\n",
              "      <th>town/city</th>\n",
              "      <th>country</th>\n",
              "    </tr>\n",
              "  </thead>\n",
              "  <tbody>\n",
              "    <tr>\n",
              "      <th>0</th>\n",
              "      <td>0</td>\n",
              "      <td>1</td>\n",
              "      <td>1</td>\n",
              "      <td>11257 Reed Hartman Hwy Unit B Blue Ash, OH 452...</td>\n",
              "      <td>39.271805</td>\n",
              "      <td>-84.376292</td>\n",
              "      <td>Blue Ash</td>\n",
              "      <td>Ohio</td>\n",
              "    </tr>\n",
              "    <tr>\n",
              "      <th>1</th>\n",
              "      <td>1</td>\n",
              "      <td>2</td>\n",
              "      <td>2</td>\n",
              "      <td>10221 State Line Rd Kansas City, MO 64114 US</td>\n",
              "      <td>38.943100</td>\n",
              "      <td>-94.607692</td>\n",
              "      <td>Kansas City</td>\n",
              "      <td>Missouri</td>\n",
              "    </tr>\n",
              "    <tr>\n",
              "      <th>2</th>\n",
              "      <td>2</td>\n",
              "      <td>3</td>\n",
              "      <td>3</td>\n",
              "      <td>13127 State Line Rd Kansas City, MO 64145 US</td>\n",
              "      <td>38.888916</td>\n",
              "      <td>-94.607348</td>\n",
              "      <td>Kansas City</td>\n",
              "      <td>Missouri</td>\n",
              "    </tr>\n",
              "    <tr>\n",
              "      <th>3</th>\n",
              "      <td>3</td>\n",
              "      <td>4</td>\n",
              "      <td>4</td>\n",
              "      <td>1370 Walnut St Kansas City, MO 64106 US</td>\n",
              "      <td>39.097368</td>\n",
              "      <td>-94.582474</td>\n",
              "      <td>Kansas City</td>\n",
              "      <td>Missouri</td>\n",
              "    </tr>\n",
              "    <tr>\n",
              "      <th>4</th>\n",
              "      <td>4</td>\n",
              "      <td>5</td>\n",
              "      <td>5</td>\n",
              "      <td>1713 W 39th St Kansas City, MO 64111 US</td>\n",
              "      <td>39.057050</td>\n",
              "      <td>-94.605638</td>\n",
              "      <td>Kansas City</td>\n",
              "      <td>Missouri</td>\n",
              "    </tr>\n",
              "    <tr>\n",
              "      <th>...</th>\n",
              "      <td>...</td>\n",
              "      <td>...</td>\n",
              "      <td>...</td>\n",
              "      <td>...</td>\n",
              "      <td>...</td>\n",
              "      <td>...</td>\n",
              "      <td>...</td>\n",
              "      <td>...</td>\n",
              "    </tr>\n",
              "    <tr>\n",
              "      <th>2381</th>\n",
              "      <td>2381</td>\n",
              "      <td>2382</td>\n",
              "      <td>2382</td>\n",
              "      <td>2391 N Highway 67 Florissant, MO 63033 US</td>\n",
              "      <td>38.804604</td>\n",
              "      <td>-90.308598</td>\n",
              "      <td>Florissant</td>\n",
              "      <td>Missouri</td>\n",
              "    </tr>\n",
              "    <tr>\n",
              "      <th>2382</th>\n",
              "      <td>2382</td>\n",
              "      <td>2383</td>\n",
              "      <td>2383</td>\n",
              "      <td>12348 S US Highway 71 Grandview, MO 64030 US</td>\n",
              "      <td>38.902037</td>\n",
              "      <td>-94.525274</td>\n",
              "      <td>Grandview</td>\n",
              "      <td>Missouri</td>\n",
              "    </tr>\n",
              "    <tr>\n",
              "      <th>2383</th>\n",
              "      <td>2383</td>\n",
              "      <td>2384</td>\n",
              "      <td>2384</td>\n",
              "      <td>18880 E Valley View Pkwy Independence, MO 6405...</td>\n",
              "      <td>39.033685</td>\n",
              "      <td>-94.357925</td>\n",
              "      <td>Independence</td>\n",
              "      <td>Missouri</td>\n",
              "    </tr>\n",
              "    <tr>\n",
              "      <th>2384</th>\n",
              "      <td>2384</td>\n",
              "      <td>2385</td>\n",
              "      <td>2385</td>\n",
              "      <td>1400 Missouri Blvd Jefferson City, MO 65109 US</td>\n",
              "      <td>38.578819</td>\n",
              "      <td>-92.192711</td>\n",
              "      <td>Jefferson City</td>\n",
              "      <td>Missouri</td>\n",
              "    </tr>\n",
              "    <tr>\n",
              "      <th>2385</th>\n",
              "      <td>2385</td>\n",
              "      <td>2386</td>\n",
              "      <td>2386</td>\n",
              "      <td>631 S Range Line Rd Ste B Joplin, MO 64801 US</td>\n",
              "      <td>37.084891</td>\n",
              "      <td>-94.476700</td>\n",
              "      <td>Joplin</td>\n",
              "      <td>Missouri</td>\n",
              "    </tr>\n",
              "  </tbody>\n",
              "</table>\n",
              "<p>2386 rows × 8 columns</p>\n",
              "</div>"
            ],
            "text/plain": [
              "      index  loc_ID  bill_ID  ...  longitude       town/city   country\n",
              "0         0       1        1  ... -84.376292        Blue Ash      Ohio\n",
              "1         1       2        2  ... -94.607692     Kansas City  Missouri\n",
              "2         2       3        3  ... -94.607348     Kansas City  Missouri\n",
              "3         3       4        4  ... -94.582474     Kansas City  Missouri\n",
              "4         4       5        5  ... -94.605638     Kansas City  Missouri\n",
              "...     ...     ...      ...  ...        ...             ...       ...\n",
              "2381   2381    2382     2382  ... -90.308598      Florissant  Missouri\n",
              "2382   2382    2383     2383  ... -94.525274       Grandview  Missouri\n",
              "2383   2383    2384     2384  ... -94.357925    Independence  Missouri\n",
              "2384   2384    2385     2385  ... -92.192711  Jefferson City  Missouri\n",
              "2385   2385    2386     2386  ... -94.476700          Joplin  Missouri\n",
              "\n",
              "[2386 rows x 8 columns]"
            ]
          },
          "metadata": {},
          "execution_count": 63
        }
      ]
    },
    {
      "cell_type": "code",
      "metadata": {
        "colab": {
          "base_uri": "https://localhost:8080/",
          "height": 50
        },
        "id": "QCs4DZQO0VoH",
        "outputId": "c37c2f30-ccaa-45e8-e54a-613c6660aea4"
      },
      "source": [
        "bill_locations_table[bill_locations_table.duplicated(keep=False)]"
      ],
      "execution_count": 64,
      "outputs": [
        {
          "output_type": "execute_result",
          "data": {
            "text/html": [
              "<div>\n",
              "<style scoped>\n",
              "    .dataframe tbody tr th:only-of-type {\n",
              "        vertical-align: middle;\n",
              "    }\n",
              "\n",
              "    .dataframe tbody tr th {\n",
              "        vertical-align: top;\n",
              "    }\n",
              "\n",
              "    .dataframe thead th {\n",
              "        text-align: right;\n",
              "    }\n",
              "</style>\n",
              "<table border=\"1\" class=\"dataframe\">\n",
              "  <thead>\n",
              "    <tr style=\"text-align: right;\">\n",
              "      <th></th>\n",
              "      <th>index</th>\n",
              "      <th>loc_ID</th>\n",
              "      <th>bill_ID</th>\n",
              "      <th>address</th>\n",
              "      <th>latitude</th>\n",
              "      <th>longitude</th>\n",
              "      <th>town/city</th>\n",
              "      <th>country</th>\n",
              "    </tr>\n",
              "  </thead>\n",
              "  <tbody>\n",
              "  </tbody>\n",
              "</table>\n",
              "</div>"
            ],
            "text/plain": [
              "Empty DataFrame\n",
              "Columns: [index, loc_ID, bill_ID, address, latitude, longitude, town/city, country]\n",
              "Index: []"
            ]
          },
          "metadata": {},
          "execution_count": 64
        }
      ]
    },
    {
      "cell_type": "code",
      "metadata": {
        "colab": {
          "base_uri": "https://localhost:8080/",
          "height": 50
        },
        "id": "ncoEeGFi0gxN",
        "outputId": "3cd9cede-a0c5-4c00-ef38-d0195d4ef595"
      },
      "source": [
        "products_table[products_table.duplicated(keep=False)]"
      ],
      "execution_count": 65,
      "outputs": [
        {
          "output_type": "execute_result",
          "data": {
            "text/html": [
              "<div>\n",
              "<style scoped>\n",
              "    .dataframe tbody tr th:only-of-type {\n",
              "        vertical-align: middle;\n",
              "    }\n",
              "\n",
              "    .dataframe tbody tr th {\n",
              "        vertical-align: top;\n",
              "    }\n",
              "\n",
              "    .dataframe thead th {\n",
              "        text-align: right;\n",
              "    }\n",
              "</style>\n",
              "<table border=\"1\" class=\"dataframe\">\n",
              "  <thead>\n",
              "    <tr style=\"text-align: right;\">\n",
              "      <th></th>\n",
              "      <th>index</th>\n",
              "      <th>product_ID</th>\n",
              "      <th>product_name</th>\n",
              "      <th>brand_ID</th>\n",
              "      <th>category_ID</th>\n",
              "      <th>subcategory_ID</th>\n",
              "    </tr>\n",
              "  </thead>\n",
              "  <tbody>\n",
              "  </tbody>\n",
              "</table>\n",
              "</div>"
            ],
            "text/plain": [
              "Empty DataFrame\n",
              "Columns: [index, product_ID, product_name, brand_ID, category_ID, subcategory_ID]\n",
              "Index: []"
            ]
          },
          "metadata": {},
          "execution_count": 65
        }
      ]
    },
    {
      "cell_type": "code",
      "metadata": {
        "colab": {
          "base_uri": "https://localhost:8080/",
          "height": 50
        },
        "id": "_xTGJb9K0uhg",
        "outputId": "0ddccefd-c5ef-45bf-aee7-1d2552ae1e70"
      },
      "source": [
        "bill_items_table[bill_items_table.duplicated(keep=False)]"
      ],
      "execution_count": 66,
      "outputs": [
        {
          "output_type": "execute_result",
          "data": {
            "text/html": [
              "<div>\n",
              "<style scoped>\n",
              "    .dataframe tbody tr th:only-of-type {\n",
              "        vertical-align: middle;\n",
              "    }\n",
              "\n",
              "    .dataframe tbody tr th {\n",
              "        vertical-align: top;\n",
              "    }\n",
              "\n",
              "    .dataframe thead th {\n",
              "        text-align: right;\n",
              "    }\n",
              "</style>\n",
              "<table border=\"1\" class=\"dataframe\">\n",
              "  <thead>\n",
              "    <tr style=\"text-align: right;\">\n",
              "      <th></th>\n",
              "      <th>index</th>\n",
              "      <th>bill_item_ID</th>\n",
              "      <th>bill_ID</th>\n",
              "      <th>product_ID</th>\n",
              "      <th>quantity</th>\n",
              "      <th>selling_price</th>\n",
              "      <th>total_sales</th>\n",
              "    </tr>\n",
              "  </thead>\n",
              "  <tbody>\n",
              "  </tbody>\n",
              "</table>\n",
              "</div>"
            ],
            "text/plain": [
              "Empty DataFrame\n",
              "Columns: [index, bill_item_ID , bill_ID, product_ID, quantity, selling_price, total_sales]\n",
              "Index: []"
            ]
          },
          "metadata": {},
          "execution_count": 66
        }
      ]
    },
    {
      "cell_type": "code",
      "metadata": {
        "colab": {
          "base_uri": "https://localhost:8080/",
          "height": 50
        },
        "id": "A22aWyJk1Bey",
        "outputId": "9ba1d6c5-37cd-4b58-bf1d-961f8cb13ae0"
      },
      "source": [
        "bill_table[bill_table.duplicated(keep=False)]"
      ],
      "execution_count": 67,
      "outputs": [
        {
          "output_type": "execute_result",
          "data": {
            "text/html": [
              "<div>\n",
              "<style scoped>\n",
              "    .dataframe tbody tr th:only-of-type {\n",
              "        vertical-align: middle;\n",
              "    }\n",
              "\n",
              "    .dataframe tbody tr th {\n",
              "        vertical-align: top;\n",
              "    }\n",
              "\n",
              "    .dataframe thead th {\n",
              "        text-align: right;\n",
              "    }\n",
              "</style>\n",
              "<table border=\"1\" class=\"dataframe\">\n",
              "  <thead>\n",
              "    <tr style=\"text-align: right;\">\n",
              "      <th></th>\n",
              "      <th>index</th>\n",
              "      <th>bill_ID</th>\n",
              "      <th>invoice</th>\n",
              "      <th>bill_date</th>\n",
              "    </tr>\n",
              "  </thead>\n",
              "  <tbody>\n",
              "  </tbody>\n",
              "</table>\n",
              "</div>"
            ],
            "text/plain": [
              "Empty DataFrame\n",
              "Columns: [index, bill_ID, invoice, bill_date]\n",
              "Index: []"
            ]
          },
          "metadata": {},
          "execution_count": 67
        }
      ]
    },
    {
      "cell_type": "code",
      "metadata": {
        "id": "ej0dF1-yT7I0"
      },
      "source": [
        "df=pd.read_sql_query(\"\"\"\n",
        "                    SELECT \n",
        "\n",
        "                            product_name,\n",
        "                            quantity,\n",
        "                            selling_price,\n",
        "                            total_sales,\n",
        "                            brand_name,\n",
        "                            company,\n",
        "                            category_name,\n",
        "                            subcategory_name,\n",
        "                            bill_date,\n",
        "                            latitude,\n",
        "                            longitude,\n",
        "                           \n",
        "                            country\n",
        "                    FROM bills\n",
        "                    LEFT JOIN(\n",
        "                        SELECT \n",
        "                            *\n",
        "                        FROM products\n",
        "                        LEFT JOIN bill_items\n",
        "                        ON bill_items.product_ID\t = products.product_ID\t\n",
        "                        LEFT JOIN brand_details\n",
        "                        ON brand_details.brand_ID\t = products.brand_ID\t\n",
        "                        LEFT JOIN main_categories\n",
        "                        ON main_categories.category_ID\t = products.category_ID\n",
        "                        LEFT JOIN sub_categories\n",
        "                        ON sub_categories.subcategory_ID\t\t = products.subcategory_ID) abc\n",
        "                        ON abc.bill_ID=bills.bill_ID\n",
        "                        LEFT JOIN bill_locations\n",
        "                        ON bill_locations.bill_ID=bills.bill_ID\n",
        "                        \t\t\n",
        "                  \"\"\", conn)"
      ],
      "execution_count": 68,
      "outputs": []
    },
    {
      "cell_type": "markdown",
      "metadata": {
        "id": "1DH2ISL0Kn8L"
      },
      "source": [
        "## PROBLEM STATEMENT"
      ]
    },
    {
      "cell_type": "code",
      "metadata": {
        "id": "uoW2-zCjKn8L",
        "colab": {
          "base_uri": "https://localhost:8080/"
        },
        "outputId": "b1d15e11-08a7-4a86-ad7a-19004d775a3e"
      },
      "source": [
        "df.info()"
      ],
      "execution_count": 69,
      "outputs": [
        {
          "output_type": "stream",
          "name": "stdout",
          "text": [
            "<class 'pandas.core.frame.DataFrame'>\n",
            "RangeIndex: 8354 entries, 0 to 8353\n",
            "Data columns (total 12 columns):\n",
            " #   Column            Non-Null Count  Dtype  \n",
            "---  ------            --------------  -----  \n",
            " 0   product_name      8354 non-null   object \n",
            " 1   quantity          8349 non-null   float64\n",
            " 2   selling_price     8354 non-null   float64\n",
            " 3   total_sales       8339 non-null   float64\n",
            " 4   brand_name        8354 non-null   object \n",
            " 5   company           8354 non-null   object \n",
            " 6   category_name     8354 non-null   object \n",
            " 7   subcategory_name  8354 non-null   object \n",
            " 8   bill_date         8354 non-null   object \n",
            " 9   latitude          8354 non-null   float64\n",
            " 10  longitude         8354 non-null   float64\n",
            " 11  country           8354 non-null   object \n",
            "dtypes: float64(5), object(7)\n",
            "memory usage: 783.3+ KB\n"
          ]
        }
      ]
    },
    {
      "cell_type": "markdown",
      "metadata": {
        "id": "WlX3RVe4Kn8L"
      },
      "source": [
        "## DATA CLEANSING"
      ]
    },
    {
      "cell_type": "code",
      "metadata": {
        "id": "cAGzDisgKn8M"
      },
      "source": [
        "df['bill_ID']=bill_items_table['bill_ID']"
      ],
      "execution_count": 70,
      "outputs": []
    },
    {
      "cell_type": "code",
      "metadata": {
        "colab": {
          "base_uri": "https://localhost:8080/",
          "height": 424
        },
        "id": "zhJis4zse864",
        "outputId": "061f3579-53fd-42bc-be07-712bb9c1ba8f"
      },
      "source": [
        "df"
      ],
      "execution_count": 71,
      "outputs": [
        {
          "output_type": "execute_result",
          "data": {
            "text/html": [
              "<div>\n",
              "<style scoped>\n",
              "    .dataframe tbody tr th:only-of-type {\n",
              "        vertical-align: middle;\n",
              "    }\n",
              "\n",
              "    .dataframe tbody tr th {\n",
              "        vertical-align: top;\n",
              "    }\n",
              "\n",
              "    .dataframe thead th {\n",
              "        text-align: right;\n",
              "    }\n",
              "</style>\n",
              "<table border=\"1\" class=\"dataframe\">\n",
              "  <thead>\n",
              "    <tr style=\"text-align: right;\">\n",
              "      <th></th>\n",
              "      <th>product_name</th>\n",
              "      <th>quantity</th>\n",
              "      <th>selling_price</th>\n",
              "      <th>total_sales</th>\n",
              "      <th>brand_name</th>\n",
              "      <th>company</th>\n",
              "      <th>category_name</th>\n",
              "      <th>subcategory_name</th>\n",
              "      <th>bill_date</th>\n",
              "      <th>latitude</th>\n",
              "      <th>longitude</th>\n",
              "      <th>country</th>\n",
              "      <th>bill_ID</th>\n",
              "    </tr>\n",
              "  </thead>\n",
              "  <tbody>\n",
              "    <tr>\n",
              "      <th>0</th>\n",
              "      <td>BALAJI MOONG DAL</td>\n",
              "      <td>2.0</td>\n",
              "      <td>5.0</td>\n",
              "      <td>10.0</td>\n",
              "      <td>BALAJI</td>\n",
              "      <td>BALAJI WAFERS P L</td>\n",
              "      <td>SALTY SNACKS (2/97)</td>\n",
              "      <td>DAL</td>\n",
              "      <td>2020-01-01</td>\n",
              "      <td>39.271805</td>\n",
              "      <td>-84.376292</td>\n",
              "      <td>Ohio</td>\n",
              "      <td>1</td>\n",
              "    </tr>\n",
              "    <tr>\n",
              "      <th>1</th>\n",
              "      <td>DAIRY MILK SILK</td>\n",
              "      <td>1.0</td>\n",
              "      <td>65.0</td>\n",
              "      <td>65.0</td>\n",
              "      <td>CADBURY DAIRY MILK</td>\n",
              "      <td>MONDELEZ INTERNATIONAL</td>\n",
              "      <td>CHOCOLATE</td>\n",
              "      <td>MOULDED</td>\n",
              "      <td>2020-01-01</td>\n",
              "      <td>39.271805</td>\n",
              "      <td>-84.376292</td>\n",
              "      <td>Ohio</td>\n",
              "      <td>1</td>\n",
              "    </tr>\n",
              "    <tr>\n",
              "      <th>2</th>\n",
              "      <td>DETTOL ORIGINAL</td>\n",
              "      <td>1.0</td>\n",
              "      <td>118.0</td>\n",
              "      <td>118.0</td>\n",
              "      <td>DETTOL</td>\n",
              "      <td>RECKITT BENCKISER</td>\n",
              "      <td>LIQUID TOILET SOAPS  (8/93)</td>\n",
              "      <td>HAND WASH</td>\n",
              "      <td>2020-01-01</td>\n",
              "      <td>39.271805</td>\n",
              "      <td>-84.376292</td>\n",
              "      <td>Ohio</td>\n",
              "      <td>1</td>\n",
              "    </tr>\n",
              "    <tr>\n",
              "      <th>3</th>\n",
              "      <td>GEMINI</td>\n",
              "      <td>1.0</td>\n",
              "      <td>140.0</td>\n",
              "      <td>140.0</td>\n",
              "      <td>GEMINI</td>\n",
              "      <td>CARGILL FOODS</td>\n",
              "      <td>REFINED EDIBLE OILS-ALL PACKS</td>\n",
              "      <td>RICE BRAN</td>\n",
              "      <td>2020-01-01</td>\n",
              "      <td>39.271805</td>\n",
              "      <td>-84.376292</td>\n",
              "      <td>Ohio</td>\n",
              "      <td>1</td>\n",
              "    </tr>\n",
              "    <tr>\n",
              "      <th>4</th>\n",
              "      <td>GEMINI</td>\n",
              "      <td>1.0</td>\n",
              "      <td>140.0</td>\n",
              "      <td>140.0</td>\n",
              "      <td>GEMINI</td>\n",
              "      <td>CARGILL FOODS</td>\n",
              "      <td>REFINED EDIBLE OILS-ALL PACKS</td>\n",
              "      <td>RICE BRAN</td>\n",
              "      <td>2020-01-01</td>\n",
              "      <td>39.271805</td>\n",
              "      <td>-84.376292</td>\n",
              "      <td>Ohio</td>\n",
              "      <td>1</td>\n",
              "    </tr>\n",
              "    <tr>\n",
              "      <th>...</th>\n",
              "      <td>...</td>\n",
              "      <td>...</td>\n",
              "      <td>...</td>\n",
              "      <td>...</td>\n",
              "      <td>...</td>\n",
              "      <td>...</td>\n",
              "      <td>...</td>\n",
              "      <td>...</td>\n",
              "      <td>...</td>\n",
              "      <td>...</td>\n",
              "      <td>...</td>\n",
              "      <td>...</td>\n",
              "      <td>...</td>\n",
              "    </tr>\n",
              "    <tr>\n",
              "      <th>8349</th>\n",
              "      <td>SAMS</td>\n",
              "      <td>1.0</td>\n",
              "      <td>55.0</td>\n",
              "      <td>55.0</td>\n",
              "      <td>SAMS</td>\n",
              "      <td>SAMS FOODS</td>\n",
              "      <td>KETCHUPS/SAUCES</td>\n",
              "      <td>KETCHUPS/SAUCES</td>\n",
              "      <td>2020-01-31</td>\n",
              "      <td>38.902037</td>\n",
              "      <td>-94.525274</td>\n",
              "      <td>Missouri</td>\n",
              "      <td>2383</td>\n",
              "    </tr>\n",
              "    <tr>\n",
              "      <th>8350</th>\n",
              "      <td>DAIRY MILK</td>\n",
              "      <td>10.0</td>\n",
              "      <td>20.0</td>\n",
              "      <td>200.0</td>\n",
              "      <td>CADBURY DAIRY MILK</td>\n",
              "      <td>MONDELEZ INTERNATIONAL</td>\n",
              "      <td>CHOCOLATE</td>\n",
              "      <td>MOULDED</td>\n",
              "      <td>2020-01-31</td>\n",
              "      <td>39.033685</td>\n",
              "      <td>-94.357925</td>\n",
              "      <td>Missouri</td>\n",
              "      <td>2384</td>\n",
              "    </tr>\n",
              "    <tr>\n",
              "      <th>8351</th>\n",
              "      <td>GITS</td>\n",
              "      <td>1.0</td>\n",
              "      <td>115.0</td>\n",
              "      <td>115.0</td>\n",
              "      <td>GITS</td>\n",
              "      <td>GITS FOOD PRODS</td>\n",
              "      <td>PACKAGED PURE GHEE</td>\n",
              "      <td>PACKAGED PURE GHEE</td>\n",
              "      <td>2020-01-31</td>\n",
              "      <td>38.578819</td>\n",
              "      <td>-92.192711</td>\n",
              "      <td>Missouri</td>\n",
              "      <td>2385</td>\n",
              "    </tr>\n",
              "    <tr>\n",
              "      <th>8352</th>\n",
              "      <td>MYSORE SANDAL</td>\n",
              "      <td>1.0</td>\n",
              "      <td>15.0</td>\n",
              "      <td>15.0</td>\n",
              "      <td>MYSORE SANDAL</td>\n",
              "      <td>KARNATAKA SOAPS</td>\n",
              "      <td>AGARBATTI &amp; DHOOPBATTI</td>\n",
              "      <td>DHOOPBATTI</td>\n",
              "      <td>2020-01-31</td>\n",
              "      <td>38.578819</td>\n",
              "      <td>-92.192711</td>\n",
              "      <td>Missouri</td>\n",
              "      <td>2385</td>\n",
              "    </tr>\n",
              "    <tr>\n",
              "      <th>8353</th>\n",
              "      <td>NATURE FRSH SAMPOORNA CHK ATTA</td>\n",
              "      <td>2.0</td>\n",
              "      <td>50.0</td>\n",
              "      <td>100.0</td>\n",
              "      <td>NATURE FRESH</td>\n",
              "      <td>CARGILL FOODS</td>\n",
              "      <td>PACKAGED ATTA (1/95)</td>\n",
              "      <td>ATTA</td>\n",
              "      <td>2020-01-31</td>\n",
              "      <td>37.084891</td>\n",
              "      <td>-94.476700</td>\n",
              "      <td>Missouri</td>\n",
              "      <td>2386</td>\n",
              "    </tr>\n",
              "  </tbody>\n",
              "</table>\n",
              "<p>8354 rows × 13 columns</p>\n",
              "</div>"
            ],
            "text/plain": [
              "                        product_name  quantity  ...   country  bill_ID\n",
              "0                   BALAJI MOONG DAL       2.0  ...      Ohio        1\n",
              "1                    DAIRY MILK SILK       1.0  ...      Ohio        1\n",
              "2                    DETTOL ORIGINAL       1.0  ...      Ohio        1\n",
              "3                             GEMINI       1.0  ...      Ohio        1\n",
              "4                             GEMINI       1.0  ...      Ohio        1\n",
              "...                              ...       ...  ...       ...      ...\n",
              "8349                            SAMS       1.0  ...  Missouri     2383\n",
              "8350                      DAIRY MILK      10.0  ...  Missouri     2384\n",
              "8351                            GITS       1.0  ...  Missouri     2385\n",
              "8352                   MYSORE SANDAL       1.0  ...  Missouri     2385\n",
              "8353  NATURE FRSH SAMPOORNA CHK ATTA       2.0  ...  Missouri     2386\n",
              "\n",
              "[8354 rows x 13 columns]"
            ]
          },
          "metadata": {},
          "execution_count": 71
        }
      ]
    },
    {
      "cell_type": "code",
      "metadata": {
        "id": "RBOFxTOk2bFu"
      },
      "source": [
        "from datetime import datetime\n",
        "\n",
        "\n",
        "df['bill_date']=pd.to_datetime(df['bill_date'], format='%Y-%m-%d')"
      ],
      "execution_count": 72,
      "outputs": []
    },
    {
      "cell_type": "code",
      "metadata": {
        "id": "rF9fIUolOAvP"
      },
      "source": [
        "df['category_name'] = df['category_name'].str.replace('\\d+', '')"
      ],
      "execution_count": 73,
      "outputs": []
    },
    {
      "cell_type": "code",
      "metadata": {
        "id": "Qfw-LmTcO6uY"
      },
      "source": [
        "df['category_name'] = df['category_name'].str.strip('(/)')"
      ],
      "execution_count": 74,
      "outputs": []
    },
    {
      "cell_type": "code",
      "metadata": {
        "id": "QCN4ARHTvU0B"
      },
      "source": [
        "df.to_csv(r'/content/gdrive/MyDrive/narasio data/Capstone_Project/Df_join.csv', index = False)"
      ],
      "execution_count": 75,
      "outputs": []
    },
    {
      "cell_type": "markdown",
      "metadata": {
        "id": "QUlpaqeqMFn2"
      },
      "source": [
        "## EXPLORATORY DATA"
      ]
    },
    {
      "cell_type": "markdown",
      "metadata": {
        "id": "Vt1ZUp6AO1Tp"
      },
      "source": [
        "# Total pembelian bulan januari"
      ]
    },
    {
      "cell_type": "code",
      "metadata": {
        "colab": {
          "base_uri": "https://localhost:8080/",
          "height": 424
        },
        "id": "-CjK8xCfkSGO",
        "outputId": "5b05aedd-0c7d-453f-fd7d-d5f7086591fd"
      },
      "source": [
        "df_kategori_terjual=df.groupby('category_name')[['total_sales']].sum()\n",
        "df_kategori_terjual.reset_index(inplace=True)\n",
        "df_kategori_terjual.sort_values(by=['total_sales'])"
      ],
      "execution_count": 76,
      "outputs": [
        {
          "output_type": "execute_result",
          "data": {
            "text/html": [
              "<div>\n",
              "<style scoped>\n",
              "    .dataframe tbody tr th:only-of-type {\n",
              "        vertical-align: middle;\n",
              "    }\n",
              "\n",
              "    .dataframe tbody tr th {\n",
              "        vertical-align: top;\n",
              "    }\n",
              "\n",
              "    .dataframe thead th {\n",
              "        text-align: right;\n",
              "    }\n",
              "</style>\n",
              "<table border=\"1\" class=\"dataframe\">\n",
              "  <thead>\n",
              "    <tr style=\"text-align: right;\">\n",
              "      <th></th>\n",
              "      <th>category_name</th>\n",
              "      <th>total_sales</th>\n",
              "    </tr>\n",
              "  </thead>\n",
              "  <tbody>\n",
              "    <tr>\n",
              "      <th>22</th>\n",
              "      <td>CONDOMS</td>\n",
              "      <td>25.00</td>\n",
              "    </tr>\n",
              "    <tr>\n",
              "      <th>50</th>\n",
              "      <td>PALMOLEIN REFINED OIL</td>\n",
              "      <td>70.00</td>\n",
              "    </tr>\n",
              "    <tr>\n",
              "      <th>15</th>\n",
              "      <td>CHYAVANPRASH</td>\n",
              "      <td>84.00</td>\n",
              "    </tr>\n",
              "    <tr>\n",
              "      <th>56</th>\n",
              "      <td>SAFETY RAZOR BLADES</td>\n",
              "      <td>104.00</td>\n",
              "    </tr>\n",
              "    <tr>\n",
              "      <th>62</th>\n",
              "      <td>SHOE POLISHES</td>\n",
              "      <td>110.00</td>\n",
              "    </tr>\n",
              "    <tr>\n",
              "      <th>...</th>\n",
              "      <td>...</td>\n",
              "      <td>...</td>\n",
              "    </tr>\n",
              "    <tr>\n",
              "      <th>47</th>\n",
              "      <td>PACKAGED PURE GHEE</td>\n",
              "      <td>24950.83</td>\n",
              "    </tr>\n",
              "    <tr>\n",
              "      <th>76</th>\n",
              "      <td>WASHING POWDERS/LIQUIDS</td>\n",
              "      <td>38035.77</td>\n",
              "    </tr>\n",
              "    <tr>\n",
              "      <th>9</th>\n",
              "      <td>BISCUITS - CORE &amp; NON CORE</td>\n",
              "      <td>47953.06</td>\n",
              "    </tr>\n",
              "    <tr>\n",
              "      <th>49</th>\n",
              "      <td>PACKAGED TEA</td>\n",
              "      <td>51571.50</td>\n",
              "    </tr>\n",
              "    <tr>\n",
              "      <th>54</th>\n",
              "      <td>REFINED EDIBLE OILS-ALL PACKS</td>\n",
              "      <td>55867.50</td>\n",
              "    </tr>\n",
              "  </tbody>\n",
              "</table>\n",
              "<p>77 rows × 2 columns</p>\n",
              "</div>"
            ],
            "text/plain": [
              "                    category_name  total_sales\n",
              "22                        CONDOMS        25.00\n",
              "50         PALMOLEIN REFINED OIL         70.00\n",
              "15                   CHYAVANPRASH        84.00\n",
              "56            SAFETY RAZOR BLADES       104.00\n",
              "62                  SHOE POLISHES       110.00\n",
              "..                            ...          ...\n",
              "47             PACKAGED PURE GHEE     24950.83\n",
              "76        WASHING POWDERS/LIQUIDS     38035.77\n",
              "9      BISCUITS - CORE & NON CORE     47953.06\n",
              "49                   PACKAGED TEA     51571.50\n",
              "54  REFINED EDIBLE OILS-ALL PACKS     55867.50\n",
              "\n",
              "[77 rows x 2 columns]"
            ]
          },
          "metadata": {},
          "execution_count": 76
        }
      ]
    },
    {
      "cell_type": "code",
      "metadata": {
        "colab": {
          "base_uri": "https://localhost:8080/"
        },
        "id": "0KLTw4JEYBad",
        "outputId": "6e70b78e-1f0b-4620-b7f3-d503faecadd7"
      },
      "source": [
        "df['total_sales'].sum()"
      ],
      "execution_count": 77,
      "outputs": [
        {
          "output_type": "execute_result",
          "data": {
            "text/plain": [
              "552328.77"
            ]
          },
          "metadata": {},
          "execution_count": 77
        }
      ]
    },
    {
      "cell_type": "markdown",
      "metadata": {
        "id": "QzBU6Y2MPT0m"
      },
      "source": [
        "# Rata-rata customer per harinya"
      ]
    },
    {
      "cell_type": "code",
      "metadata": {
        "colab": {
          "base_uri": "https://localhost:8080/"
        },
        "id": "AIehXWy_WuL6",
        "outputId": "762cbc0e-e267-4f32-8933-50bf6eb835ce"
      },
      "source": [
        "df1 = df.groupby(df['bill_date'].dt.date).size().reset_index(name='Count')\n",
        "df1\n",
        "df1['Count'].mean()"
      ],
      "execution_count": 78,
      "outputs": [
        {
          "output_type": "execute_result",
          "data": {
            "text/plain": [
              "269.48387096774195"
            ]
          },
          "metadata": {},
          "execution_count": 78
        }
      ]
    },
    {
      "cell_type": "code",
      "metadata": {
        "colab": {
          "base_uri": "https://localhost:8080/",
          "height": 424
        },
        "id": "hkb3MPSuC37V",
        "outputId": "b089d39f-c614-4ad8-d86d-2ec2e7e90015"
      },
      "source": [
        "df1 = df.groupby('bill_ID').size()\n",
        "df1=pd.DataFrame(df1)\n",
        "df1.rename(columns = {0: 'value'}, inplace = True)\n",
        "df1.reset_index(level='bill_ID',inplace=True)\n",
        "df1.sort_values('value', ascending=False)"
      ],
      "execution_count": 79,
      "outputs": [
        {
          "output_type": "execute_result",
          "data": {
            "text/html": [
              "<div>\n",
              "<style scoped>\n",
              "    .dataframe tbody tr th:only-of-type {\n",
              "        vertical-align: middle;\n",
              "    }\n",
              "\n",
              "    .dataframe tbody tr th {\n",
              "        vertical-align: top;\n",
              "    }\n",
              "\n",
              "    .dataframe thead th {\n",
              "        text-align: right;\n",
              "    }\n",
              "</style>\n",
              "<table border=\"1\" class=\"dataframe\">\n",
              "  <thead>\n",
              "    <tr style=\"text-align: right;\">\n",
              "      <th></th>\n",
              "      <th>bill_ID</th>\n",
              "      <th>value</th>\n",
              "    </tr>\n",
              "  </thead>\n",
              "  <tbody>\n",
              "    <tr>\n",
              "      <th>1331</th>\n",
              "      <td>1332</td>\n",
              "      <td>37</td>\n",
              "    </tr>\n",
              "    <tr>\n",
              "      <th>127</th>\n",
              "      <td>128</td>\n",
              "      <td>29</td>\n",
              "    </tr>\n",
              "    <tr>\n",
              "      <th>395</th>\n",
              "      <td>396</td>\n",
              "      <td>29</td>\n",
              "    </tr>\n",
              "    <tr>\n",
              "      <th>75</th>\n",
              "      <td>76</td>\n",
              "      <td>27</td>\n",
              "    </tr>\n",
              "    <tr>\n",
              "      <th>104</th>\n",
              "      <td>105</td>\n",
              "      <td>27</td>\n",
              "    </tr>\n",
              "    <tr>\n",
              "      <th>...</th>\n",
              "      <td>...</td>\n",
              "      <td>...</td>\n",
              "    </tr>\n",
              "    <tr>\n",
              "      <th>1523</th>\n",
              "      <td>1524</td>\n",
              "      <td>1</td>\n",
              "    </tr>\n",
              "    <tr>\n",
              "      <th>1524</th>\n",
              "      <td>1525</td>\n",
              "      <td>1</td>\n",
              "    </tr>\n",
              "    <tr>\n",
              "      <th>1526</th>\n",
              "      <td>1527</td>\n",
              "      <td>1</td>\n",
              "    </tr>\n",
              "    <tr>\n",
              "      <th>1527</th>\n",
              "      <td>1528</td>\n",
              "      <td>1</td>\n",
              "    </tr>\n",
              "    <tr>\n",
              "      <th>2385</th>\n",
              "      <td>2386</td>\n",
              "      <td>1</td>\n",
              "    </tr>\n",
              "  </tbody>\n",
              "</table>\n",
              "<p>2386 rows × 2 columns</p>\n",
              "</div>"
            ],
            "text/plain": [
              "      bill_ID  value\n",
              "1331     1332     37\n",
              "127       128     29\n",
              "395       396     29\n",
              "75         76     27\n",
              "104       105     27\n",
              "...       ...    ...\n",
              "1523     1524      1\n",
              "1524     1525      1\n",
              "1526     1527      1\n",
              "1527     1528      1\n",
              "2385     2386      1\n",
              "\n",
              "[2386 rows x 2 columns]"
            ]
          },
          "metadata": {},
          "execution_count": 79
        }
      ]
    },
    {
      "cell_type": "markdown",
      "metadata": {
        "id": "3b-426aBObeQ"
      },
      "source": [
        " Rata-rata unit yang dibeli per customer"
      ]
    },
    {
      "cell_type": "code",
      "metadata": {
        "colab": {
          "base_uri": "https://localhost:8080/",
          "height": 424
        },
        "id": "zq6mIQX1NmqX",
        "outputId": "72137431-5d9f-46f6-8f40-436205ef9bde"
      },
      "source": [
        "df2=df.groupby('bill_ID')['quantity'].sum()\n",
        "df2=pd.DataFrame(df2)\n",
        "df2.rename(columns = {0: 'value'}, inplace = True)\n",
        "df2.reset_index(level='bill_ID',inplace=True)\n",
        "df2\n"
      ],
      "execution_count": 80,
      "outputs": [
        {
          "output_type": "execute_result",
          "data": {
            "text/html": [
              "<div>\n",
              "<style scoped>\n",
              "    .dataframe tbody tr th:only-of-type {\n",
              "        vertical-align: middle;\n",
              "    }\n",
              "\n",
              "    .dataframe tbody tr th {\n",
              "        vertical-align: top;\n",
              "    }\n",
              "\n",
              "    .dataframe thead th {\n",
              "        text-align: right;\n",
              "    }\n",
              "</style>\n",
              "<table border=\"1\" class=\"dataframe\">\n",
              "  <thead>\n",
              "    <tr style=\"text-align: right;\">\n",
              "      <th></th>\n",
              "      <th>bill_ID</th>\n",
              "      <th>quantity</th>\n",
              "    </tr>\n",
              "  </thead>\n",
              "  <tbody>\n",
              "    <tr>\n",
              "      <th>0</th>\n",
              "      <td>1</td>\n",
              "      <td>15.0</td>\n",
              "    </tr>\n",
              "    <tr>\n",
              "      <th>1</th>\n",
              "      <td>2</td>\n",
              "      <td>28.0</td>\n",
              "    </tr>\n",
              "    <tr>\n",
              "      <th>2</th>\n",
              "      <td>3</td>\n",
              "      <td>17.0</td>\n",
              "    </tr>\n",
              "    <tr>\n",
              "      <th>3</th>\n",
              "      <td>4</td>\n",
              "      <td>14.0</td>\n",
              "    </tr>\n",
              "    <tr>\n",
              "      <th>4</th>\n",
              "      <td>5</td>\n",
              "      <td>3.0</td>\n",
              "    </tr>\n",
              "    <tr>\n",
              "      <th>...</th>\n",
              "      <td>...</td>\n",
              "      <td>...</td>\n",
              "    </tr>\n",
              "    <tr>\n",
              "      <th>2381</th>\n",
              "      <td>2382</td>\n",
              "      <td>1.0</td>\n",
              "    </tr>\n",
              "    <tr>\n",
              "      <th>2382</th>\n",
              "      <td>2383</td>\n",
              "      <td>1.0</td>\n",
              "    </tr>\n",
              "    <tr>\n",
              "      <th>2383</th>\n",
              "      <td>2384</td>\n",
              "      <td>10.0</td>\n",
              "    </tr>\n",
              "    <tr>\n",
              "      <th>2384</th>\n",
              "      <td>2385</td>\n",
              "      <td>2.0</td>\n",
              "    </tr>\n",
              "    <tr>\n",
              "      <th>2385</th>\n",
              "      <td>2386</td>\n",
              "      <td>2.0</td>\n",
              "    </tr>\n",
              "  </tbody>\n",
              "</table>\n",
              "<p>2386 rows × 2 columns</p>\n",
              "</div>"
            ],
            "text/plain": [
              "      bill_ID  quantity\n",
              "0           1      15.0\n",
              "1           2      28.0\n",
              "2           3      17.0\n",
              "3           4      14.0\n",
              "4           5       3.0\n",
              "...       ...       ...\n",
              "2381     2382       1.0\n",
              "2382     2383       1.0\n",
              "2383     2384      10.0\n",
              "2384     2385       2.0\n",
              "2385     2386       2.0\n",
              "\n",
              "[2386 rows x 2 columns]"
            ]
          },
          "metadata": {},
          "execution_count": 80
        }
      ]
    },
    {
      "cell_type": "code",
      "metadata": {
        "id": "mNYj_4azOnyy",
        "colab": {
          "base_uri": "https://localhost:8080/"
        },
        "outputId": "4ae5473f-8bf6-473c-9039-f11bf1c68d22"
      },
      "source": [
        "df2['quantity'].mean()"
      ],
      "execution_count": 81,
      "outputs": [
        {
          "output_type": "execute_result",
          "data": {
            "text/plain": [
              "9.220452640402348"
            ]
          },
          "metadata": {},
          "execution_count": 81
        }
      ]
    },
    {
      "cell_type": "code",
      "metadata": {
        "id": "OcWzroacGerg"
      },
      "source": [
        "import numpy as np"
      ],
      "execution_count": 82,
      "outputs": []
    },
    {
      "cell_type": "code",
      "metadata": {
        "colab": {
          "base_uri": "https://localhost:8080/",
          "height": 424
        },
        "id": "BGmYWlplFTXh",
        "outputId": "2ce1615e-4e22-4380-e976-992ca1d68a9d"
      },
      "source": [
        "conditions = [\n",
        "    (df1['value'] <= 5),\n",
        "    (df1['value'] > 5) & (df1['value'] <= 10),\n",
        "    (df1['value'] > 10) \n",
        "    ]\n",
        "\n",
        "# create a list of the values we want to assign for each condition\n",
        "values = ['jarang', 'sering', 'sangat sering']\n",
        "\n",
        "# create a new column and use np.select to assign values to it using our lists as arguments\n",
        "df1['kategori'] = np.select(conditions, values)\n",
        "\n",
        "# display updated DataFrame\n",
        "df1"
      ],
      "execution_count": 83,
      "outputs": [
        {
          "output_type": "execute_result",
          "data": {
            "text/html": [
              "<div>\n",
              "<style scoped>\n",
              "    .dataframe tbody tr th:only-of-type {\n",
              "        vertical-align: middle;\n",
              "    }\n",
              "\n",
              "    .dataframe tbody tr th {\n",
              "        vertical-align: top;\n",
              "    }\n",
              "\n",
              "    .dataframe thead th {\n",
              "        text-align: right;\n",
              "    }\n",
              "</style>\n",
              "<table border=\"1\" class=\"dataframe\">\n",
              "  <thead>\n",
              "    <tr style=\"text-align: right;\">\n",
              "      <th></th>\n",
              "      <th>bill_ID</th>\n",
              "      <th>value</th>\n",
              "      <th>kategori</th>\n",
              "    </tr>\n",
              "  </thead>\n",
              "  <tbody>\n",
              "    <tr>\n",
              "      <th>0</th>\n",
              "      <td>1</td>\n",
              "      <td>11</td>\n",
              "      <td>sangat sering</td>\n",
              "    </tr>\n",
              "    <tr>\n",
              "      <th>1</th>\n",
              "      <td>2</td>\n",
              "      <td>11</td>\n",
              "      <td>sangat sering</td>\n",
              "    </tr>\n",
              "    <tr>\n",
              "      <th>2</th>\n",
              "      <td>3</td>\n",
              "      <td>9</td>\n",
              "      <td>sering</td>\n",
              "    </tr>\n",
              "    <tr>\n",
              "      <th>3</th>\n",
              "      <td>4</td>\n",
              "      <td>7</td>\n",
              "      <td>sering</td>\n",
              "    </tr>\n",
              "    <tr>\n",
              "      <th>4</th>\n",
              "      <td>5</td>\n",
              "      <td>2</td>\n",
              "      <td>jarang</td>\n",
              "    </tr>\n",
              "    <tr>\n",
              "      <th>...</th>\n",
              "      <td>...</td>\n",
              "      <td>...</td>\n",
              "      <td>...</td>\n",
              "    </tr>\n",
              "    <tr>\n",
              "      <th>2381</th>\n",
              "      <td>2382</td>\n",
              "      <td>1</td>\n",
              "      <td>jarang</td>\n",
              "    </tr>\n",
              "    <tr>\n",
              "      <th>2382</th>\n",
              "      <td>2383</td>\n",
              "      <td>1</td>\n",
              "      <td>jarang</td>\n",
              "    </tr>\n",
              "    <tr>\n",
              "      <th>2383</th>\n",
              "      <td>2384</td>\n",
              "      <td>1</td>\n",
              "      <td>jarang</td>\n",
              "    </tr>\n",
              "    <tr>\n",
              "      <th>2384</th>\n",
              "      <td>2385</td>\n",
              "      <td>2</td>\n",
              "      <td>jarang</td>\n",
              "    </tr>\n",
              "    <tr>\n",
              "      <th>2385</th>\n",
              "      <td>2386</td>\n",
              "      <td>1</td>\n",
              "      <td>jarang</td>\n",
              "    </tr>\n",
              "  </tbody>\n",
              "</table>\n",
              "<p>2386 rows × 3 columns</p>\n",
              "</div>"
            ],
            "text/plain": [
              "      bill_ID  value       kategori\n",
              "0           1     11  sangat sering\n",
              "1           2     11  sangat sering\n",
              "2           3      9         sering\n",
              "3           4      7         sering\n",
              "4           5      2         jarang\n",
              "...       ...    ...            ...\n",
              "2381     2382      1         jarang\n",
              "2382     2383      1         jarang\n",
              "2383     2384      1         jarang\n",
              "2384     2385      2         jarang\n",
              "2385     2386      1         jarang\n",
              "\n",
              "[2386 rows x 3 columns]"
            ]
          },
          "metadata": {},
          "execution_count": 83
        }
      ]
    },
    {
      "cell_type": "code",
      "metadata": {
        "id": "HthxCoAWJY9r"
      },
      "source": [
        "import seaborn as sns\n"
      ],
      "execution_count": 84,
      "outputs": []
    },
    {
      "cell_type": "code",
      "metadata": {
        "colab": {
          "base_uri": "https://localhost:8080/",
          "height": 264
        },
        "id": "gtfRwAADMYIz",
        "outputId": "f07e4fed-b89f-4fea-fa3f-c41bab3f47bd"
      },
      "source": [
        "import matplotlib.pyplot as plt\n",
        "\n",
        "\n",
        "plt.hist(df['quantity'], bins = 10)\n",
        "plt.show()"
      ],
      "execution_count": 85,
      "outputs": [
        {
          "output_type": "display_data",
          "data": {
            "image/png": "[encoded data removed]",
            "text/plain": [
              "<Figure size 432x288 with 1 Axes>"
            ]
          },
          "metadata": {
            "needs_background": "light"
          }
        }
      ]
    },
    {
      "cell_type": "code",
      "metadata": {
        "colab": {
          "base_uri": "https://localhost:8080/",
          "height": 264
        },
        "id": "sd5MkkXcMoQA",
        "outputId": "4a91afb2-95f3-4f63-b834-90daee35163a"
      },
      "source": [
        "plt.hist(df['total_sales'], bins = 30)\n",
        "plt.show()"
      ],
      "execution_count": 86,
      "outputs": [
        {
          "output_type": "display_data",
          "data": {
            "image/png": "[encoded data removed]",
            "text/plain": [
              "<Figure size 432x288 with 1 Axes>"
            ]
          },
          "metadata": {
            "needs_background": "light"
          }
        }
      ]
    },
    {
      "cell_type": "code",
      "metadata": {
        "colab": {
          "base_uri": "https://localhost:8080/",
          "height": 264
        },
        "id": "6KMelGaSMzxY",
        "outputId": "6c9d2123-5515-4192-e0d6-dc1d5ce65e2e"
      },
      "source": [
        "plt.hist(df['selling_price'], bins = 10)\n",
        "plt.show()"
      ],
      "execution_count": 87,
      "outputs": [
        {
          "output_type": "display_data",
          "data": {
            "image/png": "[encoded data removed]",
            "text/plain": [
              "<Figure size 432x288 with 1 Axes>"
            ]
          },
          "metadata": {
            "needs_background": "light"
          }
        }
      ]
    },
    {
      "cell_type": "code",
      "metadata": {
        "id": "RZgsN1fJGnHC"
      },
      "source": [
        "df1.to_csv(r'/content/gdrive/MyDrive/narasio data/Capstone_Project/df1.csv', index = False)"
      ],
      "execution_count": 88,
      "outputs": []
    },
    {
      "cell_type": "markdown",
      "metadata": {
        "id": "EVYEbWFcLFm5"
      },
      "source": [
        "## REKOMENDASI"
      ]
    },
    {
      "cell_type": "markdown",
      "metadata": {
        "id": "uKCnqg6VKn8P"
      },
      "source": [
        "## KESIMPULAN - Create the story"
      ]
    },
    {
      "cell_type": "markdown",
      "metadata": {
        "id": "zj6gHPs-Pgw5"
      },
      "source": [
        "Bisa kilita lihat sebenarnya data retail ini memiliki customer yang cukup banyak.Tiap harinya ada sekitar 269 orang yang berbelanja di tempat retail tersebut.Aapabila kita perhatikan dashboard bisa kita ketahui bahwa pembeli menyukai produk biskuit bisa dilihat dari selama satu bulan setidaknya ada 1092 pelanggan berbeda yang jumlahnya merupakan 2x lipat bahkan lebih dari prduk lainnya.Didalamm produk biskuit ini  marie gold regular merupakan pilihan vavorit belanja mereka.Meskioun kategori tertinggi merupakan biskuit,tetapi apaabila kita lihat secara per produk  maka everest yang merupakan produk yang paling diminati.Apabila kita lihat dari segi pendistribusian penjualan maka di daerah south dakota blum ada terdapat orang yang menggunakan tempat retail ini.\n",
        "\n",
        "Saran\n",
        "\n",
        "\n",
        "1.   Retail dapat mencari variasi produk dari biskuit tidak hanya marie regal gold mengingat jumlah kategori terbanyak adalah biskuit\n",
        "2.   Sedangkan untuk melingkatkan revenue kita bisa memuliai dengan memperluas pendistribusian wilayah contohnya provinsi sout dahkota\n",
        "3.   Retail juga bisa meningkatkan revenuenya dengan cara memfokuskan barang apa saja yang sering dibel\n",
        "\n"
      ]
    }
  ]
}